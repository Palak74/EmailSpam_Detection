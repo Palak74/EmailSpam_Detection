{
  "nbformat": 4,
  "nbformat_minor": 0,
  "metadata": {
    "colab": {
      "provenance": []
    },
    "kernelspec": {
      "name": "python3",
      "display_name": "Python 3"
    },
    "language_info": {
      "name": "python"
    }
  },
  "cells": [
    {
      "cell_type": "code",
      "execution_count": 1,
      "metadata": {
        "id": "kdEOdF0eFYzd"
      },
      "outputs": [],
      "source": [
        "# Imports\n",
        "import pandas as pd\n",
        "import numpy as np\n",
        "import nltk\n",
        "import re\n",
        "import seaborn as sns\n",
        "import matplotlib.pyplot as plt\n",
        "\n",
        "from sklearn.model_selection import train_test_split\n",
        "from sklearn.feature_extraction.text import TfidfVectorizer\n",
        "from sklearn.naive_bayes import MultinomialNB\n",
        "from sklearn.svm import SVC\n",
        "from sklearn.ensemble import VotingClassifier\n",
        "from sklearn.metrics import classification_report, confusion_matrix"
      ]
    },
    {
      "cell_type": "code",
      "source": [
        "from google.colab import files\n",
        "import zipfile\n",
        "import os\n",
        "\n",
        "# Upload ZIP\n",
        "uploaded = files.upload()\n",
        "zip_file = list(uploaded.keys())[0]\n",
        "\n",
        "# Extract\n",
        "extract_path = '/content/dataset'\n",
        "os.makedirs(extract_path, exist_ok=True)\n",
        "\n",
        "with zipfile.ZipFile(zip_file, 'r') as zip_ref:\n",
        "    zip_ref.extractall(extract_path)\n",
        "\n",
        "print(\"✅ Extracted Files:\")\n",
        "for root, dirs, files in os.walk(extract_path):\n",
        "    for file in files:\n",
        "        print(os.path.join(root, file))\n"
      ],
      "metadata": {
        "colab": {
          "base_uri": "https://localhost:8080/",
          "height": 142
        },
        "id": "ft8_7q7xFg2B",
        "outputId": "960219f3-35c9-4127-fef5-c0db9dc93cee"
      },
      "execution_count": 2,
      "outputs": [
        {
          "output_type": "display_data",
          "data": {
            "text/plain": [
              "<IPython.core.display.HTML object>"
            ],
            "text/html": [
              "\n",
              "     <input type=\"file\" id=\"files-7a7e39c9-95be-4bb9-93d1-44eedf767a23\" name=\"files[]\" multiple disabled\n",
              "        style=\"border:none\" />\n",
              "     <output id=\"result-7a7e39c9-95be-4bb9-93d1-44eedf767a23\">\n",
              "      Upload widget is only available when the cell has been executed in the\n",
              "      current browser session. Please rerun this cell to enable.\n",
              "      </output>\n",
              "      <script>// Copyright 2017 Google LLC\n",
              "//\n",
              "// Licensed under the Apache License, Version 2.0 (the \"License\");\n",
              "// you may not use this file except in compliance with the License.\n",
              "// You may obtain a copy of the License at\n",
              "//\n",
              "//      http://www.apache.org/licenses/LICENSE-2.0\n",
              "//\n",
              "// Unless required by applicable law or agreed to in writing, software\n",
              "// distributed under the License is distributed on an \"AS IS\" BASIS,\n",
              "// WITHOUT WARRANTIES OR CONDITIONS OF ANY KIND, either express or implied.\n",
              "// See the License for the specific language governing permissions and\n",
              "// limitations under the License.\n",
              "\n",
              "/**\n",
              " * @fileoverview Helpers for google.colab Python module.\n",
              " */\n",
              "(function(scope) {\n",
              "function span(text, styleAttributes = {}) {\n",
              "  const element = document.createElement('span');\n",
              "  element.textContent = text;\n",
              "  for (const key of Object.keys(styleAttributes)) {\n",
              "    element.style[key] = styleAttributes[key];\n",
              "  }\n",
              "  return element;\n",
              "}\n",
              "\n",
              "// Max number of bytes which will be uploaded at a time.\n",
              "const MAX_PAYLOAD_SIZE = 100 * 1024;\n",
              "\n",
              "function _uploadFiles(inputId, outputId) {\n",
              "  const steps = uploadFilesStep(inputId, outputId);\n",
              "  const outputElement = document.getElementById(outputId);\n",
              "  // Cache steps on the outputElement to make it available for the next call\n",
              "  // to uploadFilesContinue from Python.\n",
              "  outputElement.steps = steps;\n",
              "\n",
              "  return _uploadFilesContinue(outputId);\n",
              "}\n",
              "\n",
              "// This is roughly an async generator (not supported in the browser yet),\n",
              "// where there are multiple asynchronous steps and the Python side is going\n",
              "// to poll for completion of each step.\n",
              "// This uses a Promise to block the python side on completion of each step,\n",
              "// then passes the result of the previous step as the input to the next step.\n",
              "function _uploadFilesContinue(outputId) {\n",
              "  const outputElement = document.getElementById(outputId);\n",
              "  const steps = outputElement.steps;\n",
              "\n",
              "  const next = steps.next(outputElement.lastPromiseValue);\n",
              "  return Promise.resolve(next.value.promise).then((value) => {\n",
              "    // Cache the last promise value to make it available to the next\n",
              "    // step of the generator.\n",
              "    outputElement.lastPromiseValue = value;\n",
              "    return next.value.response;\n",
              "  });\n",
              "}\n",
              "\n",
              "/**\n",
              " * Generator function which is called between each async step of the upload\n",
              " * process.\n",
              " * @param {string} inputId Element ID of the input file picker element.\n",
              " * @param {string} outputId Element ID of the output display.\n",
              " * @return {!Iterable<!Object>} Iterable of next steps.\n",
              " */\n",
              "function* uploadFilesStep(inputId, outputId) {\n",
              "  const inputElement = document.getElementById(inputId);\n",
              "  inputElement.disabled = false;\n",
              "\n",
              "  const outputElement = document.getElementById(outputId);\n",
              "  outputElement.innerHTML = '';\n",
              "\n",
              "  const pickedPromise = new Promise((resolve) => {\n",
              "    inputElement.addEventListener('change', (e) => {\n",
              "      resolve(e.target.files);\n",
              "    });\n",
              "  });\n",
              "\n",
              "  const cancel = document.createElement('button');\n",
              "  inputElement.parentElement.appendChild(cancel);\n",
              "  cancel.textContent = 'Cancel upload';\n",
              "  const cancelPromise = new Promise((resolve) => {\n",
              "    cancel.onclick = () => {\n",
              "      resolve(null);\n",
              "    };\n",
              "  });\n",
              "\n",
              "  // Wait for the user to pick the files.\n",
              "  const files = yield {\n",
              "    promise: Promise.race([pickedPromise, cancelPromise]),\n",
              "    response: {\n",
              "      action: 'starting',\n",
              "    }\n",
              "  };\n",
              "\n",
              "  cancel.remove();\n",
              "\n",
              "  // Disable the input element since further picks are not allowed.\n",
              "  inputElement.disabled = true;\n",
              "\n",
              "  if (!files) {\n",
              "    return {\n",
              "      response: {\n",
              "        action: 'complete',\n",
              "      }\n",
              "    };\n",
              "  }\n",
              "\n",
              "  for (const file of files) {\n",
              "    const li = document.createElement('li');\n",
              "    li.append(span(file.name, {fontWeight: 'bold'}));\n",
              "    li.append(span(\n",
              "        `(${file.type || 'n/a'}) - ${file.size} bytes, ` +\n",
              "        `last modified: ${\n",
              "            file.lastModifiedDate ? file.lastModifiedDate.toLocaleDateString() :\n",
              "                                    'n/a'} - `));\n",
              "    const percent = span('0% done');\n",
              "    li.appendChild(percent);\n",
              "\n",
              "    outputElement.appendChild(li);\n",
              "\n",
              "    const fileDataPromise = new Promise((resolve) => {\n",
              "      const reader = new FileReader();\n",
              "      reader.onload = (e) => {\n",
              "        resolve(e.target.result);\n",
              "      };\n",
              "      reader.readAsArrayBuffer(file);\n",
              "    });\n",
              "    // Wait for the data to be ready.\n",
              "    let fileData = yield {\n",
              "      promise: fileDataPromise,\n",
              "      response: {\n",
              "        action: 'continue',\n",
              "      }\n",
              "    };\n",
              "\n",
              "    // Use a chunked sending to avoid message size limits. See b/62115660.\n",
              "    let position = 0;\n",
              "    do {\n",
              "      const length = Math.min(fileData.byteLength - position, MAX_PAYLOAD_SIZE);\n",
              "      const chunk = new Uint8Array(fileData, position, length);\n",
              "      position += length;\n",
              "\n",
              "      const base64 = btoa(String.fromCharCode.apply(null, chunk));\n",
              "      yield {\n",
              "        response: {\n",
              "          action: 'append',\n",
              "          file: file.name,\n",
              "          data: base64,\n",
              "        },\n",
              "      };\n",
              "\n",
              "      let percentDone = fileData.byteLength === 0 ?\n",
              "          100 :\n",
              "          Math.round((position / fileData.byteLength) * 100);\n",
              "      percent.textContent = `${percentDone}% done`;\n",
              "\n",
              "    } while (position < fileData.byteLength);\n",
              "  }\n",
              "\n",
              "  // All done.\n",
              "  yield {\n",
              "    response: {\n",
              "      action: 'complete',\n",
              "    }\n",
              "  };\n",
              "}\n",
              "\n",
              "scope.google = scope.google || {};\n",
              "scope.google.colab = scope.google.colab || {};\n",
              "scope.google.colab._files = {\n",
              "  _uploadFiles,\n",
              "  _uploadFilesContinue,\n",
              "};\n",
              "})(self);\n",
              "</script> "
            ]
          },
          "metadata": {}
        },
        {
          "output_type": "stream",
          "name": "stdout",
          "text": [
            "Saving spambase.zip to spambase.zip\n",
            "✅ Extracted Files:\n",
            "/content/dataset/spambase.DOCUMENTATION\n",
            "/content/dataset/spambase.data\n",
            "/content/dataset/spambase.names\n"
          ]
        }
      ]
    },
    {
      "cell_type": "code",
      "source": [
        "import pandas as pd\n",
        "\n",
        "csv_path = '/content/dataset/spambase.data'  # Update if needed\n",
        "df = pd.read_csv(csv_path, header=None)\n",
        "\n",
        "# Assign column names\n",
        "columns = [f\"feature_{i}\" for i in range(57)] + [\"label\"]\n",
        "df.columns = columns\n",
        "\n",
        "df['label'].value_counts(), df.head()\n"
      ],
      "metadata": {
        "colab": {
          "base_uri": "https://localhost:8080/"
        },
        "id": "KX3VsBT4FxtR",
        "outputId": "6e9b6de0-aeca-4c9f-e1a5-9f9b3c1e057f"
      },
      "execution_count": 3,
      "outputs": [
        {
          "output_type": "execute_result",
          "data": {
            "text/plain": [
              "(label\n",
              " 0    2788\n",
              " 1    1813\n",
              " Name: count, dtype: int64,\n",
              "    feature_0  feature_1  feature_2  feature_3  feature_4  feature_5  \\\n",
              " 0       0.00       0.64       0.64        0.0       0.32       0.00   \n",
              " 1       0.21       0.28       0.50        0.0       0.14       0.28   \n",
              " 2       0.06       0.00       0.71        0.0       1.23       0.19   \n",
              " 3       0.00       0.00       0.00        0.0       0.63       0.00   \n",
              " 4       0.00       0.00       0.00        0.0       0.63       0.00   \n",
              " \n",
              "    feature_6  feature_7  feature_8  feature_9  ...  feature_48  feature_49  \\\n",
              " 0       0.00       0.00       0.00       0.00  ...        0.00       0.000   \n",
              " 1       0.21       0.07       0.00       0.94  ...        0.00       0.132   \n",
              " 2       0.19       0.12       0.64       0.25  ...        0.01       0.143   \n",
              " 3       0.31       0.63       0.31       0.63  ...        0.00       0.137   \n",
              " 4       0.31       0.63       0.31       0.63  ...        0.00       0.135   \n",
              " \n",
              "    feature_50  feature_51  feature_52  feature_53  feature_54  feature_55  \\\n",
              " 0         0.0       0.778       0.000       0.000       3.756          61   \n",
              " 1         0.0       0.372       0.180       0.048       5.114         101   \n",
              " 2         0.0       0.276       0.184       0.010       9.821         485   \n",
              " 3         0.0       0.137       0.000       0.000       3.537          40   \n",
              " 4         0.0       0.135       0.000       0.000       3.537          40   \n",
              " \n",
              "    feature_56  label  \n",
              " 0         278      1  \n",
              " 1        1028      1  \n",
              " 2        2259      1  \n",
              " 3         191      1  \n",
              " 4         191      1  \n",
              " \n",
              " [5 rows x 58 columns])"
            ]
          },
          "metadata": {},
          "execution_count": 3
        }
      ]
    },
    {
      "cell_type": "code",
      "source": [
        "from sklearn.model_selection import train_test_split\n",
        "from sklearn.preprocessing import StandardScaler\n",
        "from imblearn.over_sampling import SMOTE\n",
        "\n",
        "# Features and labels\n",
        "X = df.drop(\"label\", axis=1)\n",
        "y = df[\"label\"]\n",
        "\n",
        "# Split\n",
        "X_train, X_test, y_train, y_test = train_test_split(X, y, test_size=0.2, random_state=42, stratify=y)\n",
        "\n",
        "# Scaling\n",
        "scaler = StandardScaler()\n",
        "X_train_scaled = scaler.fit_transform(X_train)\n",
        "X_test_scaled = scaler.transform(X_test)\n",
        "\n",
        "# SMOTE\n",
        "smote = SMOTE(random_state=42)\n",
        "X_train_sm, y_train_sm = smote.fit_resample(X_train_scaled, y_train)\n"
      ],
      "metadata": {
        "id": "_POmKHODGSJT"
      },
      "execution_count": 4,
      "outputs": []
    },
    {
      "cell_type": "code",
      "source": [
        "from sklearn.naive_bayes import GaussianNB\n",
        "from sklearn.metrics import classification_report, confusion_matrix\n",
        "\n",
        "nb = GaussianNB()\n",
        "nb.fit(X_train_sm, y_train_sm)\n",
        "\n",
        "nb_preds = nb.predict(X_test_scaled)\n",
        "\n",
        "print(\"🔸 Naive Bayes Results\")\n",
        "print(confusion_matrix(y_test, nb_preds))\n",
        "print(classification_report(y_test, nb_preds))\n"
      ],
      "metadata": {
        "colab": {
          "base_uri": "https://localhost:8080/"
        },
        "id": "Q_mLGuPgGUFP",
        "outputId": "b1bbe9f4-9e63-4e9f-9747-46404eef9b47"
      },
      "execution_count": 5,
      "outputs": [
        {
          "output_type": "stream",
          "name": "stdout",
          "text": [
            "🔸 Naive Bayes Results\n",
            "[[420 138]\n",
            " [ 15 348]]\n",
            "              precision    recall  f1-score   support\n",
            "\n",
            "           0       0.97      0.75      0.85       558\n",
            "           1       0.72      0.96      0.82       363\n",
            "\n",
            "    accuracy                           0.83       921\n",
            "   macro avg       0.84      0.86      0.83       921\n",
            "weighted avg       0.87      0.83      0.84       921\n",
            "\n"
          ]
        }
      ]
    },
    {
      "cell_type": "code",
      "source": [
        "from sklearn.svm import SVC\n",
        "from sklearn.model_selection import RandomizedSearchCV\n",
        "from scipy.stats import uniform\n",
        "\n",
        "svm = SVC(kernel='linear', probability=True)\n",
        "\n",
        "param_dist = {'C': uniform(0.1, 10)}\n",
        "svm_random = RandomizedSearchCV(svm, param_distributions=param_dist, n_iter=10, cv=5, random_state=42, n_jobs=-1, verbose=1)\n",
        "svm_random.fit(X_train_sm, y_train_sm)\n",
        "\n",
        "svm_preds = svm_random.predict(X_test_scaled)\n",
        "\n",
        "print(\"🔸 SVM Results\")\n",
        "print(confusion_matrix(y_test, svm_preds))\n",
        "print(classification_report(y_test, svm_preds))\n"
      ],
      "metadata": {
        "colab": {
          "base_uri": "https://localhost:8080/"
        },
        "id": "eMVJy6KTGanX",
        "outputId": "3fac6033-d40f-4b6c-d098-06933ecb53a1"
      },
      "execution_count": 6,
      "outputs": [
        {
          "output_type": "stream",
          "name": "stdout",
          "text": [
            "Fitting 5 folds for each of 10 candidates, totalling 50 fits\n",
            "🔸 SVM Results\n",
            "[[525  33]\n",
            " [ 34 329]]\n",
            "              precision    recall  f1-score   support\n",
            "\n",
            "           0       0.94      0.94      0.94       558\n",
            "           1       0.91      0.91      0.91       363\n",
            "\n",
            "    accuracy                           0.93       921\n",
            "   macro avg       0.92      0.92      0.92       921\n",
            "weighted avg       0.93      0.93      0.93       921\n",
            "\n"
          ]
        }
      ]
    },
    {
      "cell_type": "code",
      "source": [
        "from sklearn.ensemble import VotingClassifier\n",
        "\n",
        "hybrid = VotingClassifier(estimators=[\n",
        "    ('nb', nb),\n",
        "    ('svm', svm_random.best_estimator_)\n",
        "], voting='soft')\n",
        "\n",
        "hybrid.fit(X_train_sm, y_train_sm)\n",
        "hybrid_preds = hybrid.predict(X_test_scaled)\n",
        "\n",
        "print(\"🔸 Hybrid Voting Model\")\n",
        "print(confusion_matrix(y_test, hybrid_preds))\n",
        "print(classification_report(y_test, hybrid_preds))\n"
      ],
      "metadata": {
        "colab": {
          "base_uri": "https://localhost:8080/"
        },
        "id": "F6MQ-JQxH6KH",
        "outputId": "ac038236-bd7e-4f06-9a88-74ce1b5bf117"
      },
      "execution_count": 7,
      "outputs": [
        {
          "output_type": "stream",
          "name": "stdout",
          "text": [
            "🔸 Hybrid Voting Model\n",
            "[[420 138]\n",
            " [ 15 348]]\n",
            "              precision    recall  f1-score   support\n",
            "\n",
            "           0       0.97      0.75      0.85       558\n",
            "           1       0.72      0.96      0.82       363\n",
            "\n",
            "    accuracy                           0.83       921\n",
            "   macro avg       0.84      0.86      0.83       921\n",
            "weighted avg       0.87      0.83      0.84       921\n",
            "\n"
          ]
        }
      ]
    },
    {
      "cell_type": "code",
      "source": [
        "from sklearn.metrics import accuracy_score, precision_score, recall_score, f1_score\n",
        "import matplotlib.pyplot as plt\n",
        "import numpy as np\n",
        "\n",
        "# List of models and their predictions\n",
        "models = ['Naive Bayes', 'SVM', 'Hybrid']\n",
        "predictions = [nb_preds, svm_preds, hybrid_preds]\n",
        "\n",
        "# Initialize metric storage\n",
        "metrics = {\n",
        "    'Accuracy': [],\n",
        "    'Precision': [],\n",
        "    'Recall': [],\n",
        "    'F1-Score': []\n",
        "}\n",
        "\n",
        "# Compute metrics for each model\n",
        "for preds in predictions:\n",
        "    metrics['Accuracy'].append(accuracy_score(y_test, preds))\n",
        "    metrics['Precision'].append(precision_score(y_test, preds))\n",
        "    metrics['Recall'].append(recall_score(y_test, preds))\n",
        "    metrics['F1-Score'].append(f1_score(y_test, preds))\n",
        "\n",
        "# Plotting\n",
        "x = np.arange(len(models))\n",
        "width = 0.2\n",
        "\n",
        "fig, ax = plt.subplots(figsize=(5, 4))\n",
        "ax.bar(x - 1.5*width, metrics['Accuracy'], width, label='Accuracy')\n",
        "ax.bar(x - 0.5*width, metrics['Precision'], width, label='Precision')\n",
        "ax.bar(x + 0.5*width, metrics['Recall'], width, label='Recall')\n",
        "ax.bar(x + 1.5*width, metrics['F1-Score'], width, label='F1-Score')\n",
        "\n",
        "ax.set_ylabel('Score')\n",
        "ax.set_title('Model Performance Comparison')\n",
        "ax.set_xticks(x)\n",
        "ax.set_xticklabels(models)\n",
        "ax.legend()\n",
        "plt.grid(True)\n",
        "plt.tight_layout()\n",
        "plt.show()\n"
      ],
      "metadata": {
        "colab": {
          "base_uri": "https://localhost:8080/",
          "height": 407
        },
        "id": "9f3gaXDgIqsV",
        "outputId": "65c1582f-7f75-461f-baf2-b4d08d42c78b"
      },
      "execution_count": 8,
      "outputs": [
        {
          "output_type": "display_data",
          "data": {
            "text/plain": [
              "<Figure size 500x400 with 1 Axes>"
            ],
            "image/png": "[encoded data removed]"
          },
          "metadata": {}
        }
      ]
    }
  ]
}